{
  "nbformat": 4,
  "nbformat_minor": 0,
  "metadata": {
    "colab": {
      "name": "Cópia de Untitled1.ipynb",
      "provenance": [],
      "authorship_tag": "ABX9TyMm7oEVBW7mfxinHis5hRzN",
      "include_colab_link": true
    },
    "kernelspec": {
      "name": "python3",
      "display_name": "Python 3"
    },
    "language_info": {
      "name": "python"
    }
  },
  "cells": [
    {
      "cell_type": "markdown",
      "metadata": {
        "id": "view-in-github",
        "colab_type": "text"
      },
      "source": [
        "<a href=\"https://colab.research.google.com/github/joseGjr/intelligenceA/blob/main/exercicios2.ipynb\" target=\"_parent\"><img src=\"https://colab.research.google.com/assets/colab-badge.svg\" alt=\"Open In Colab\"/></a>"
      ]
    },
    {
      "cell_type": "code",
      "execution_count": 1,
      "metadata": {
        "id": "DRTWrjgkdDa5"
      },
      "outputs": [],
      "source": [
        "import numpy as np"
      ]
    },
    {
      "cell_type": "code",
      "source": [
        "np.ones(shape = (3,3),dtype = bool)"
      ],
      "metadata": {
        "colab": {
          "base_uri": "https://localhost:8080/"
        },
        "id": "3EwN_HY0m8Y1",
        "outputId": "5528aa36-dc4f-40df-d8de-a9c04145ee92"
      },
      "execution_count": 5,
      "outputs": [
        {
          "output_type": "execute_result",
          "data": {
            "text/plain": [
              "array([[ True,  True,  True],\n",
              "       [ True,  True,  True],\n",
              "       [ True,  True,  True]])"
            ]
          },
          "metadata": {},
          "execution_count": 5
        }
      ]
    },
    {
      "cell_type": "code",
      "source": [
        "arr = np.array ([13,8,73,93,12,38,45,24,0,3,4,5,8,6])\n",
        "impares = []\n",
        "for elemento in arr:\n",
        "  if(elemento % 2>0):\n",
        "    impares.append(elemento);\n",
        "    print(impares)\n",
        "    "
      ],
      "metadata": {
        "colab": {
          "base_uri": "https://localhost:8080/"
        },
        "id": "QW90HqyNoSK8",
        "outputId": "437a6a10-5e94-4299-ee95-17e10ddfca13"
      },
      "execution_count": 18,
      "outputs": [
        {
          "output_type": "stream",
          "name": "stdout",
          "text": [
            "[13]\n",
            "[13, 73]\n",
            "[13, 73, 93]\n",
            "[13, 73, 93, 45]\n",
            "[13, 73, 93, 45, 3]\n",
            "[13, 73, 93, 45, 3, 5]\n"
          ]
        }
      ]
    },
    {
      "cell_type": "code",
      "source": [
        "arr = np.array([0,1,2,3,4,5,6,7,8,9])\n",
        "print('vector original form is:', arr)\n",
        "ind = np.where(arr%2>0)[0]\n",
        "print(\"Indices onde o elemento é impar: \", ind)\n"
      ],
      "metadata": {
        "colab": {
          "base_uri": "https://localhost:8080/"
        },
        "id": "z4WEWl-7sNw_",
        "outputId": "60a3d698-0b5f-4d4e-f442-da904fbad3e3"
      },
      "execution_count": 26,
      "outputs": [
        {
          "output_type": "stream",
          "name": "stdout",
          "text": [
            "vector original form is: [0 1 2 3 4 5 6 7 8 9]\n",
            "Indices onde o elemento é impar:  [1 3 5 7 9]\n"
          ]
        }
      ]
    },
    {
      "cell_type": "code",
      "source": [
        ""
      ],
      "metadata": {
        "id": "GdYo52Uyu5Rj"
      },
      "execution_count": null,
      "outputs": []
    }
  ]
}